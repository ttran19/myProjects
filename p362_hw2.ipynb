{
 "cells": [
  {
   "cell_type": "markdown",
   "id": "3f004167",
   "metadata": {},
   "source": [
    "# Exercise 1\n",
    "Write a program that calculates the energy levels of an electron in an infinite square well\n",
    "potential:\n",
    "\n",
    "E<sub>n</sub> = (n<sup>2</sup>􏰁&#295;<sup>2</sup>π<sup>2</sup>) / (2m<sub>e</sub>a<sup>2</sup>),\n",
    "\n",
    "where m<sub>e</sub> is the electron mass, 􏰁&#295;􏰁 is the reduced Planck’s constant, a is the width of the well, and n is the quantum number for the energy level (1, 2, 3,. . . ). You will need to use scientific notation (e.g. 1e10) for most of the numbers (use SI units). The program should ask for the well width in meters (reasonable inputs will be around 1.0e-9), the energy quantum number, and output the energy in Joules.\n"
   ]
  },
  {
   "cell_type": "code",
   "execution_count": 1,
   "id": "cc1214d0",
   "metadata": {},
   "outputs": [
    {
     "name": "stdout",
     "output_type": "stream",
     "text": [
      "Enter the well width in meters: 1e10\n",
      "Enter the energy quantum number: 1\n",
      "The energy level is 6.024667402237572e-58 Joules.\n"
     ]
    }
   ],
   "source": [
    "from scipy.constants import hbar\n",
    "from scipy.constants import m_e\n",
    "from scipy.constants import pi\n",
    "\n",
    "a = float(input(\"Enter the well width in meters: \"))\n",
    "n = int(input(\"Enter the energy quantum number: \"))\n",
    "energy = n * n * hbar * hbar * pi * pi / 2 / m_e / a / a\n",
    "print(\"The energy level is\",energy,'Joules.')"
   ]
  },
  {
   "cell_type": "markdown",
   "id": "6baf5dd2",
   "metadata": {},
   "source": [
    "# Exercise 2\n",
    "Write a program that prompts the user to enter a temperature in Fahrenheit and then converts it to Celsius and outputs the result with two decimal digits. Make sure that only physically possible temperature values are accepted! Use your program to calculate how much −40F, 0F, and 75F is in Celsius and print the results."
   ]
  },
  {
   "cell_type": "code",
   "execution_count": 4,
   "id": "3981b895",
   "metadata": {},
   "outputs": [
    {
     "name": "stdout",
     "output_type": "stream",
     "text": [
      "Enter the temperature in Fahrenheit: -40\n",
      "The temperature is -40.0 C.\n",
      "Enter the temperature in Fahrenheit: 0\n",
      "The temperature is -17.78 C.\n",
      "Enter the temperature in Fahrenheit: 75\n",
      "The temperature is 23.89 C.\n"
     ]
    }
   ],
   "source": [
    "# To calculate 3 different conversions, exercise 2 is programmed as a function.\n",
    "def exercise2():\n",
    "    fahrenheit = float(input(\"Enter the temperature in Fahrenheit: \"))\n",
    "    if fahrenheit < -459.67:\n",
    "        raise ValueError(\"Temperature is below absolute zero.\")\n",
    "    celsius =  (fahrenheit - 32) * 5 / 9\n",
    "    print(\"The temperature is\",round(celsius, 2),\"C.\")\n",
    "    \n",
    "for i in range(3):\n",
    "    exercise2()"
   ]
  },
  {
   "cell_type": "markdown",
   "id": "d4c7bdc4",
   "metadata": {},
   "source": [
    "# Exercise 3\n",
    "The binomial coefficient is an integer equal to \n",
    "\n",
    "n! / k!(n-k)!\n",
    "\n",
    "when k ≥ 1, or 1 when k = 0.\n",
    "\n",
    "(i) Using this form for the binomial coefficient, write a user-defined function binomial(n,k) that calculates the binomial coefficient for given n and k. Make sure your function returns the answer in the form of an integer (not a float) and gives the correct value of 1 for the case where k = 0.\n",
    "\n",
    "(ii) Using your function write a program to print out the first 10 lines of “Pascal’s triangle.” The nth line of Pascal’s triangle contains n + 1 numbers."
   ]
  },
  {
   "cell_type": "code",
   "execution_count": 7,
   "id": "01d545da",
   "metadata": {},
   "outputs": [
    {
     "name": "stdout",
     "output_type": "stream",
     "text": [
      "1 \n",
      "1 1 \n",
      "1 2 1 \n",
      "1 3 3 1 \n",
      "1 4 6 4 1 \n",
      "1 5 10 10 5 1 \n",
      "1 6 15 20 15 6 1 \n",
      "1 7 21 35 35 21 7 1 \n",
      "1 8 28 56 70 56 28 8 1 \n",
      "1 9 36 84 126 126 84 36 9 1 \n"
     ]
    }
   ],
   "source": [
    "def binomial(n, k):\n",
    "    numerator = 1\n",
    "    denominator = 1\n",
    "    for i in range(n - k + 1, n + 1):\n",
    "        numerator *= i\n",
    "    for i in range(k):\n",
    "        denominator *= i + 1\n",
    "    return int(numerator / denominator)\n",
    "\n",
    "for n in range(10):\n",
    "    for k in range(n + 1):\n",
    "        print(binomial(n, k), end = \" \")\n",
    "    print()"
   ]
  }
 ],
 "metadata": {
  "kernelspec": {
   "display_name": "Python 3 (ipykernel)",
   "language": "python",
   "name": "python3"
  },
  "language_info": {
   "codemirror_mode": {
    "name": "ipython",
    "version": 3
   },
   "file_extension": ".py",
   "mimetype": "text/x-python",
   "name": "python",
   "nbconvert_exporter": "python",
   "pygments_lexer": "ipython3",
   "version": "3.11.5"
  }
 },
 "nbformat": 4,
 "nbformat_minor": 5
}
